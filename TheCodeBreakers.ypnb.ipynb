{
 "cells": [
  {
   "cell_type": "markdown",
   "id": "54fe8b3e",
   "metadata": {},
   "source": [
    "# Block Cipher and RSA"
   ]
  },
  {
   "cell_type": "code",
   "execution_count": 31,
   "id": "915d78b0",
   "metadata": {},
   "outputs": [],
   "source": [
    "# import modules here\n",
    "import random"
   ]
  },
  {
   "cell_type": "markdown",
   "id": "90688222-e1b2-4d86-8760-25375d627e1b",
   "metadata": {},
   "source": [
    "## Block Cipher and AES"
   ]
  },
  {
   "cell_type": "markdown",
   "id": "6f254ac0",
   "metadata": {},
   "source": [
    "Explanation of Block Ciphers (Max 150 words)"
   ]
  },
  {
   "cell_type": "markdown",
   "id": "6ee1a701",
   "metadata": {},
   "source": [
    "Explanation of the Advanced Encryption Standard (AES) (Max 300 words)"
   ]
  },
  {
   "cell_type": "markdown",
   "id": "3278cf89",
   "metadata": {},
   "source": [
    "### Modes of operation"
   ]
  },
  {
   "cell_type": "markdown",
   "id": "5f1bfe61",
   "metadata": {},
   "source": [
    "Describe different modes of operation of Block Ciphers (Max 150 words)"
   ]
  },
  {
   "cell_type": "markdown",
   "id": "207a9ce0",
   "metadata": {},
   "source": [
    "Load the plaintext stored as `secret_message.bin`.\n",
    "The plaintext is a serialized 2048 x 2912 grayscale image in which each pixel is an 8bit integer. Serialization transformed the 2D image into a byte string by concatenating the rows and transforming each 8bit pixel into a byte."
   ]
  },
  {
   "cell_type": "code",
   "execution_count": 19,
   "id": "a1c8a299",
   "metadata": {},
   "outputs": [],
   "source": [
    "# Code here"
   ]
  },
  {
   "cell_type": "markdown",
   "id": "62ba8876",
   "metadata": {},
   "source": [
    "Process the plaintext in order to retrive the original image and then visualize it."
   ]
  },
  {
   "cell_type": "code",
   "execution_count": 20,
   "id": "70d54082",
   "metadata": {},
   "outputs": [],
   "source": [
    "# Code here"
   ]
  },
  {
   "cell_type": "markdown",
   "id": "b7e09820",
   "metadata": {},
   "source": [
    "Using AES, for each operation mode (ECB, CBC, CTR and CFB) encrypt and decrypt the image"
   ]
  },
  {
   "cell_type": "code",
   "execution_count": 21,
   "id": "784103b3",
   "metadata": {},
   "outputs": [],
   "source": [
    "# Code here"
   ]
  },
  {
   "cell_type": "markdown",
   "id": "a5fee295",
   "metadata": {},
   "source": [
    "For each mode of opration visualize the ciphertext as an image"
   ]
  },
  {
   "cell_type": "code",
   "execution_count": 22,
   "id": "f7630835",
   "metadata": {},
   "outputs": [],
   "source": [
    "# Code here"
   ]
  },
  {
   "cell_type": "markdown",
   "id": "8f3c04de",
   "metadata": {},
   "source": [
    "Discuss the results (Max 100 words)."
   ]
  },
  {
   "cell_type": "markdown",
   "id": "acc785bd",
   "metadata": {},
   "source": [
    "## RSA"
   ]
  },
  {
   "cell_type": "markdown",
   "id": "22537faf",
   "metadata": {},
   "source": [
    "Explanation of the Rivest–Shamir–Adleman (RSA) algorithm (Max 150 words)"
   ]
  },
  {
   "cell_type": "markdown",
   "id": "ee76fefb",
   "metadata": {
    "tags": []
   },
   "source": [
    "### Square and Multiply"
   ]
  },
  {
   "cell_type": "markdown",
   "id": "338a05d2",
   "metadata": {},
   "source": [
    "Describe and implement the Square and Multiply algorithm (max 150 words)"
   ]
  },
  {
   "cell_type": "code",
   "execution_count": null,
   "id": "fa5bc937-7657-4923-864f-bd188145809c",
   "metadata": {},
   "outputs": [],
   "source": [
    "def square_and_multiply(base, exp, mod):\n",
    "    ''' Documentation '''\n",
    "    # Code here\n",
    "    return number"
   ]
  },
  {
   "cell_type": "markdown",
   "id": "fd669ef4-d842-4b56-a2ec-e9bd1ca6274a",
   "metadata": {},
   "source": [
    "testing"
   ]
  },
  {
   "cell_type": "code",
   "execution_count": null,
   "id": "ef3ade5d-4655-4a84-8734-4237aa64a0e1",
   "metadata": {},
   "outputs": [],
   "source": [
    "# Code here"
   ]
  },
  {
   "cell_type": "markdown",
   "id": "a6ca9dfa",
   "metadata": {
    "tags": []
   },
   "source": [
    "### Miller Rabin test"
   ]
  },
  {
   "cell_type": "markdown",
   "id": "b561bb69",
   "metadata": {},
   "source": [
    "Describe the Miller Rabin algorithm for primality test (max 150 words)"
   ]
  },
  {
   "cell_type": "code",
   "execution_count": null,
   "id": "72576523-b703-4f3c-8164-86b4141012ca",
   "metadata": {},
   "outputs": [],
   "source": [
    "def miller_rabin_test(number, num_trials=None):\n",
    "    ''' Documentation '''\n",
    "    # Code here\n",
    "    return # bool"
   ]
  },
  {
   "cell_type": "markdown",
   "id": "ce6039e9-9def-4259-95bf-9e4be4a994c1",
   "metadata": {},
   "source": [
    "testing"
   ]
  },
  {
   "cell_type": "code",
   "execution_count": null,
   "id": "f30ecd8d-b126-46b5-9eca-ffc1404e5630",
   "metadata": {},
   "outputs": [],
   "source": [
    "# Code here"
   ]
  },
  {
   "cell_type": "markdown",
   "id": "bebeb5e6",
   "metadata": {
    "tags": []
   },
   "source": [
    "### Extended Eucledian Algorithm"
   ]
  },
  {
   "cell_type": "markdown",
   "id": "3505004f",
   "metadata": {},
   "source": [
    "Describe and the Extended Eucledian Algorithm (EEA) (max 150 words)"
   ]
  },
  {
   "cell_type": "code",
   "execution_count": null,
   "id": "4988b1eb-cb53-4e5d-bf5d-75904bb5013a",
   "metadata": {},
   "outputs": [],
   "source": [
    "def extended_eucledian_algorithm(a, m):\n",
    "    ''' Documentation '''\n",
    "    # Code here\n",
    "    return s"
   ]
  },
  {
   "cell_type": "markdown",
   "id": "373233bd-6c0d-47ea-8f0d-0c6fe734d2ab",
   "metadata": {},
   "source": [
    "testing"
   ]
  },
  {
   "cell_type": "code",
   "execution_count": null,
   "id": "c371bc42-63f5-4033-ba21-8655eb523412",
   "metadata": {},
   "outputs": [],
   "source": [
    "# Code here"
   ]
  },
  {
   "cell_type": "markdown",
   "id": "b1507052",
   "metadata": {},
   "source": [
    "### Implementation"
   ]
  },
  {
   "cell_type": "markdown",
   "id": "eb84acd5",
   "metadata": {},
   "source": [
    "Implement the RSA class. The role of sender (`Alice`) or receiver (`Bob`) depends on the arguments passed when an instance is created. In detail:\n",
    "- if `k_pub` is passed RSA instance works as sender (`Alice`)\n",
    "- Otherwise, RSA instance works as receiver (`Bob`). Therefore, it must generate `k_priv` and `k_pub`."
   ]
  },
  {
   "cell_type": "code",
   "execution_count": 30,
   "id": "7f320671",
   "metadata": {},
   "outputs": [],
   "source": [
    "class RSA():\n",
    "    \n",
    "    def __init__(self, key_length=128, k_pub=None, mrt_trials=None):\n",
    "        ''' Documentation '''\n",
    "        # Code here\n",
    "    \n",
    "    # mandatory methods:\n",
    "    \n",
    "    def _sample_prime_number(self, length, mrt_trials=None):\n",
    "        ''' Documentation '''\n",
    "        # Code here\n",
    "        return number\n",
    "    \n",
    "    def decrypt(self, y):\n",
    "        ''' Documentation '''\n",
    "        # Code here\n",
    "        return x\n",
    "    \n",
    "    def encrypt(self, x):\n",
    "        ''' Documentation '''\n",
    "        # Code here\n",
    "        return y"
   ]
  },
  {
   "cell_type": "markdown",
   "id": "413dc2de",
   "metadata": {},
   "source": [
    "testing"
   ]
  },
  {
   "cell_type": "code",
   "execution_count": 2,
   "id": "8dd56745",
   "metadata": {},
   "outputs": [],
   "source": [
    "# Code here"
   ]
  },
  {
   "cell_type": "markdown",
   "id": "2f3d2649",
   "metadata": {},
   "source": [
    "##  RSA+AES"
   ]
  },
  {
   "cell_type": "markdown",
   "id": "6d8c9304",
   "metadata": {},
   "source": [
    "Describe how can RSA and AES coexist in a cryptographic system (max 200 words)"
   ]
  },
  {
   "cell_type": "markdown",
   "id": "04fa0d4d",
   "metadata": {},
   "source": [
    "<img src=\"system.png\" width=\"600\">"
   ]
  },
  {
   "cell_type": "markdown",
   "id": "000f9eae",
   "metadata": {},
   "source": [
    "With the reference to the previous picture, given an AES key `k_AES = b'0123456701234567'` and a ciphertext stored in `ciphertext_AES.bin`,\n",
    "simulate a system based on RSA and AES, that allows Bob to decrypt the ciphertext."
   ]
  },
  {
   "cell_type": "code",
   "execution_count": 3,
   "id": "b1300c31",
   "metadata": {},
   "outputs": [],
   "source": [
    "# Code Here"
   ]
  },
  {
   "cell_type": "markdown",
   "id": "47a5bcaf",
   "metadata": {},
   "source": [
    "## Bouns task"
   ]
  },
  {
   "cell_type": "markdown",
   "id": "21cab0c1",
   "metadata": {},
   "source": [
    "to be defined"
   ]
  },
  {
   "cell_type": "code",
   "execution_count": null,
   "id": "949d3706-47c6-4b7f-8dca-32437c10f14b",
   "metadata": {},
   "outputs": [],
   "source": []
  }
 ],
 "metadata": {
  "kernelspec": {
   "display_name": "Python 3 (ipykernel)",
   "language": "python",
   "name": "python3"
  },
  "language_info": {
   "codemirror_mode": {
    "name": "ipython",
    "version": 3
   },
   "file_extension": ".py",
   "mimetype": "text/x-python",
   "name": "python",
   "nbconvert_exporter": "python",
   "pygments_lexer": "ipython3",
   "version": "3.10.9"
  }
 },
 "nbformat": 4,
 "nbformat_minor": 5
}
