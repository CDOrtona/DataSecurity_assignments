{
 "cells": [
  {
   "cell_type": "markdown",
   "id": "00172a96",
   "metadata": {},
   "source": [
    "# Substitution Ciphers"
   ]
  },
  {
   "cell_type": "markdown",
   "id": "88c571e3-d03d-4506-a411-67663dc6ff9f",
   "metadata": {},
   "source": [
    "Brief introduction to substitution ciphers (Max 150 words)"
   ]
  },
  {
   "cell_type": "code",
   "execution_count": null,
   "id": "082b70d2-197b-4c55-9092-4c1cb02a6298",
   "metadata": {},
   "outputs": [],
   "source": [
    "# import modules here\n"
   ]
  },
  {
   "cell_type": "markdown",
   "id": "6a297866",
   "metadata": {},
   "source": [
    "## Caesar Cipher"
   ]
  },
  {
   "cell_type": "markdown",
   "id": "b53b1655",
   "metadata": {},
   "source": [
    "Explanation of Caesar Cipher (Max 150 words)"
   ]
  },
  {
   "cell_type": "markdown",
   "id": "2ae56b56-293c-4f94-978b-1ea64f122002",
   "metadata": {},
   "source": [
    "Type of attacks of Caesar Cipher (Max 150 words)"
   ]
  },
  {
   "cell_type": "markdown",
   "id": "d79da87f-6130-427e-9104-9619e3b7b5e4",
   "metadata": {},
   "source": [
    "### Decoder"
   ]
  },
  {
   "cell_type": "markdown",
   "id": "62d29861",
   "metadata": {
    "jp-MarkdownHeadingCollapsed": true,
    "tags": []
   },
   "source": [
    "Explain how the decoder of a Caesar Cipher works (Max 150 words)"
   ]
  },
  {
   "cell_type": "code",
   "execution_count": null,
   "id": "a5b0d026",
   "metadata": {},
   "outputs": [],
   "source": [
    "def caesar_decoding(ciphertext, shift=0):\n",
    "    # Code here\n",
    "    return plaintext"
   ]
  },
  {
   "cell_type": "code",
   "execution_count": null,
   "id": "4317bf77",
   "metadata": {},
   "outputs": [],
   "source": [
    "# code snippet to test the implementation of the decoder\n",
    "ciphertext = 'lipps!' # 'hello!' encoded with shift=4\n",
    "plaintext = caesar_decoding(ciphertext, shift=4)\n",
    "\n",
    "print(ciphertext, '->', plaintext)"
   ]
  },
  {
   "cell_type": "markdown",
   "id": "6bf38609",
   "metadata": {},
   "source": [
    "### Ciphertext"
   ]
  },
  {
   "cell_type": "code",
   "execution_count": null,
   "id": "09746945-d53e-47eb-8bf2-0079a150ecdc",
   "metadata": {},
   "outputs": [],
   "source": [
    "# Load ciphertext\n"
   ]
  },
  {
   "cell_type": "markdown",
   "id": "36d3498f",
   "metadata": {},
   "source": [
    "### Brute Force"
   ]
  },
  {
   "cell_type": "markdown",
   "id": "1c3d1d7c-d12a-4104-8eae-c3ec454069ea",
   "metadata": {},
   "source": [
    "Describe the procedure necessary to perfrom a Brute Force attack  (Max 150 words)"
   ]
  },
  {
   "cell_type": "code",
   "execution_count": null,
   "id": "de080a59-7b09-44b7-82a3-ab3bfc76d0ca",
   "metadata": {},
   "outputs": [],
   "source": [
    "# Perform a Brute Force attack\n"
   ]
  },
  {
   "cell_type": "code",
   "execution_count": null,
   "id": "aeeb5386-91a3-405a-81c8-7a106a44f12c",
   "metadata": {},
   "outputs": [],
   "source": [
    "# Print decrypted plaintext and the key (shift)\n"
   ]
  },
  {
   "cell_type": "markdown",
   "id": "9503d65c",
   "metadata": {},
   "source": [
    "## Simple Substitution Cipher"
   ]
  },
  {
   "cell_type": "markdown",
   "id": "1142538f-3869-4cde-b822-e75b386169ad",
   "metadata": {},
   "source": [
    "Explanation of a Substitution Cipher (Max 150 words)"
   ]
  },
  {
   "cell_type": "markdown",
   "id": "7d156339-cebb-4302-9ee2-a74cc5b87866",
   "metadata": {},
   "source": [
    "Type of attacks of a Substitution Cipher (Max 150 words)"
   ]
  },
  {
   "cell_type": "markdown",
   "id": "e28968b7",
   "metadata": {},
   "source": [
    "### Decoder"
   ]
  },
  {
   "cell_type": "markdown",
   "id": "3cc7ae6e-3bfb-43e3-838e-53ed1c7f382a",
   "metadata": {
    "jp-MarkdownHeadingCollapsed": true,
    "tags": []
   },
   "source": [
    "Explain how the decoder of a Substitution Cipher works (Max 150 words)"
   ]
  },
  {
   "cell_type": "code",
   "execution_count": null,
   "id": "adb6fd3b",
   "metadata": {},
   "outputs": [],
   "source": [
    "def substitution_decoding(ciphertext, rule):\n",
    "    # Code here\n",
    "    return plaintext"
   ]
  },
  {
   "cell_type": "code",
   "execution_count": null,
   "id": "33b9b1e0-9132-4147-8d14-5b036f7a0658",
   "metadata": {},
   "outputs": [],
   "source": [
    "# Test your function\n"
   ]
  },
  {
   "cell_type": "markdown",
   "id": "68a41fcd",
   "metadata": {},
   "source": [
    "### Ciphertext"
   ]
  },
  {
   "cell_type": "code",
   "execution_count": null,
   "id": "8d8aa5ee-a119-48c0-a9e8-3b4b8a3cb034",
   "metadata": {},
   "outputs": [],
   "source": [
    "# Load ciphertext\n"
   ]
  },
  {
   "cell_type": "markdown",
   "id": "843e03cd",
   "metadata": {},
   "source": [
    "### Frequency Analysis"
   ]
  },
  {
   "cell_type": "markdown",
   "id": "456bfb67",
   "metadata": {},
   "source": [
    "Describe the frequency analysis attack (Max 150 words)"
   ]
  },
  {
   "cell_type": "code",
   "execution_count": null,
   "id": "e835f650-3896-49e8-93d7-8ad609e1dbdc",
   "metadata": {},
   "outputs": [],
   "source": [
    "# Load the true letter frequency distribution computed in Homework\n"
   ]
  },
  {
   "cell_type": "code",
   "execution_count": null,
   "id": "9d08692b-e7c2-4133-a603-f26d44dd1dc8",
   "metadata": {},
   "outputs": [],
   "source": [
    "# Plot the distribution\n"
   ]
  },
  {
   "cell_type": "code",
   "execution_count": null,
   "id": "af14a82e-0202-4d9f-abb3-e1feba2c439c",
   "metadata": {},
   "outputs": [],
   "source": [
    "# Perform the Frequency Analysis attack\n"
   ]
  },
  {
   "cell_type": "code",
   "execution_count": null,
   "id": "7853d9cb-1414-4b8f-bf95-856d32e6fe61",
   "metadata": {},
   "outputs": [],
   "source": [
    "# Print decrypted plaintext and the key (shift)\n"
   ]
  },
  {
   "cell_type": "markdown",
   "id": "b15470e3-b320-40a3-b8df-b43abf3e8338",
   "metadata": {},
   "source": [
    "## Bonus Task"
   ]
  },
  {
   "cell_type": "code",
   "execution_count": null,
   "id": "489a3a33-3e2a-483f-82fa-131d66752460",
   "metadata": {},
   "outputs": [],
   "source": [
    "# Code here\n"
   ]
  }
 ],
 "metadata": {
  "kernelspec": {
   "display_name": "Python 3 (ipykernel)",
   "language": "python",
   "name": "python3"
  },
  "language_info": {
   "codemirror_mode": {
    "name": "ipython",
    "version": 3
   },
   "file_extension": ".py",
   "mimetype": "text/x-python",
   "name": "python",
   "nbconvert_exporter": "python",
   "pygments_lexer": "ipython3",
   "version": "3.10.9"
  }
 },
 "nbformat": 4,
 "nbformat_minor": 5
}
