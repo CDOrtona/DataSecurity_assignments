{
 "cells": [
  {
   "cell_type": "markdown",
   "id": "00172a96",
   "metadata": {},
   "source": [
    "# Substitution Ciphers"
   ]
  },
  {
   "attachments": {},
   "cell_type": "markdown",
   "id": "88c571e3-d03d-4506-a411-67663dc6ff9f",
   "metadata": {},
   "source": [
    "Substitution cipher is a method of encryption that generates a ciphertext starting from a plaintext whose letters are scrambled in various ways. If the substitution cipher operates on single letters then it's defined as a simple substitution cipher, whereas if it operates on large groups of letters it's defined polygraphic. "
   ]
  },
  {
   "cell_type": "code",
   "execution_count": 1,
   "id": "082b70d2-197b-4c55-9092-4c1cb02a6298",
   "metadata": {},
   "outputs": [],
   "source": [
    "# import modules here\n",
    "import os\n",
    "import numpy as np\n",
    "import string\n",
    "import pickle\n",
    "import matplotlib.pyplot as plt\n",
    "\n",
    "SHIFT_EXERCISE = 14\n",
    "ALPHABET = tuple(string.ascii_lowercase)"
   ]
  },
  {
   "cell_type": "markdown",
   "id": "6a297866",
   "metadata": {},
   "source": [
    "## Caesar Cipher"
   ]
  },
  {
   "attachments": {},
   "cell_type": "markdown",
   "id": "b53b1655",
   "metadata": {},
   "source": [
    "Caesar cipher is a monoalphabetic substitution cipher since it works on single characters. Moreover, unlike the substitution cipher, where letters are randomly scrambled, here letters are substituted according to a defined shift.\n",
    " For instance, if a shift equal to 1 is considered: the letter A is mapped with the letter B, B is mapped with C and so on."
   ]
  },
  {
   "attachments": {},
   "cell_type": "markdown",
   "id": "2ae56b56-293c-4f94-978b-1ea64f122002",
   "metadata": {},
   "source": [
    "There are two main attacks to break the Caesar cipher: \n",
    "- **Brute force** is an attack where all the possible shifts are tested against the ciphertext. Since the alphabet is composed of 26 letters, there are only 26 possibilities which makes this kind of attack feasible in this case.\n",
    "- **Frequency analysis** is an attack where the distribution of the letters is inferred: the shift is computed by analyzing the distribution of the ciphertext and comparing it with the distribution of the english text taken as reference."
   ]
  },
  {
   "cell_type": "markdown",
   "id": "d79da87f-6130-427e-9104-9619e3b7b5e4",
   "metadata": {},
   "source": [
    "### Decoder"
   ]
  },
  {
   "attachments": {},
   "cell_type": "markdown",
   "id": "62d29861",
   "metadata": {
    "jp-MarkdownHeadingCollapsed": true,
    "tags": []
   },
   "source": [
    "The decoding function (caesar_decoding) takes as inputs the ciphertext we wish to decrypt and the shift. Since we are using a bruteforce attack, a rule is generated for every shift and it has been implemented with a dictionary whose keys are the letters of the plain alphabet and the values are the letters of the alphabet shifted according to the shift taken into account.\n",
    "The decryption of the ciphertext is performed by indexing the rule with each letter of the ciphertext and replacing them with the shifted one. However, special characters and numbers have been disregarded and this is done by considering only the lower case letters whose unicode is comprised between 97 and 127. "
   ]
  },
  {
   "cell_type": "code",
   "execution_count": 2,
   "id": "a5b0d026",
   "metadata": {},
   "outputs": [],
   "source": [
    "def caesar_decoding(ciphertext, shift=0):\n",
    "    # letters in unicode range from 97 to 127 , space -> 32, comma -> 44\n",
    "    # NOTE: the shift is equal to 14\n",
    "    alphabet = tuple(string.ascii_lowercase)\n",
    "    ciphered_alphabet = alphabet[-shift:] + alphabet[:-shift]\n",
    "    # print(ciphered_alphabet)\n",
    "    rule = dict(zip(alphabet, ciphered_alphabet))\n",
    "    # print(f'the rule is {rule}')\n",
    "    plaintext = [rule[letter] if 97 <= ord(letter) <= 127 else letter for letter in ciphertext]\n",
    "    return ''.join(plaintext)"
   ]
  },
  {
   "cell_type": "code",
   "execution_count": 3,
   "id": "4317bf77",
   "metadata": {},
   "outputs": [
    {
     "name": "stdout",
     "output_type": "stream",
     "text": [
      "lipps! -> hello!\n"
     ]
    }
   ],
   "source": [
    "# code snippet to test the implementation of the decoder\n",
    "ciphertext = 'lipps!' # 'hello!' encoded with shift=4\n",
    "plaintext = caesar_decoding(ciphertext, shift=4)\n",
    "\n",
    "print(ciphertext, '->', plaintext)"
   ]
  },
  {
   "cell_type": "markdown",
   "id": "6bf38609",
   "metadata": {},
   "source": [
    "### Ciphertext"
   ]
  },
  {
   "cell_type": "code",
   "execution_count": 4,
   "id": "09746945-d53e-47eb-8bf2-0079a150ecdc",
   "metadata": {},
   "outputs": [],
   "source": [
    "# Load ciphertext\n",
    "def read_cipher(file_name):\n",
    "    try:\n",
    "        with open(file=file_name, mode='r', encoding='utf-8') as file:\n",
    "            cipher = file.read()\n",
    "            return cipher\n",
    "    except (IOError, OSError):\n",
    "        return \"It appears an error occurred while reading your file\""
   ]
  },
  {
   "cell_type": "markdown",
   "id": "36d3498f",
   "metadata": {},
   "source": [
    "### Brute Force"
   ]
  },
  {
   "attachments": {},
   "cell_type": "markdown",
   "id": "1c3d1d7c-d12a-4104-8eae-c3ec454069ea",
   "metadata": {},
   "source": [
    "In order to perform a brute force attack, we iterate the decoding function through all the 26 possibilities. This has been implemented considering a small sample of 27 letters (to reduce the needed computational power), then all the 26 different decrypted samples have been visually inspected in order to find the correct shift."
   ]
  },
  {
   "cell_type": "code",
   "execution_count": 5,
   "id": "de080a59-7b09-44b7-82a3-ab3bfc76d0ca",
   "metadata": {},
   "outputs": [
    {
     "name": "stdout",
     "output_type": "stream",
     "text": [
      "Iteration: 0\n",
      "qfmdhcufodvm, cf qfmdhczcum\n",
      "Iteration: 1\n",
      "pelcgbtencul, be pelcgbybtl\n",
      "Iteration: 2\n",
      "odkbfasdmbtk, ad odkbfaxask\n",
      "Iteration: 3\n",
      "ncjaezrclasj, zc ncjaezwzrj\n",
      "Iteration: 4\n",
      "mbizdyqbkzri, yb mbizdyvyqi\n",
      "Iteration: 5\n",
      "lahycxpajyqh, xa lahycxuxph\n",
      "Iteration: 6\n",
      "kzgxbwozixpg, wz kzgxbwtwog\n",
      "Iteration: 7\n",
      "jyfwavnyhwof, vy jyfwavsvnf\n",
      "Iteration: 8\n",
      "ixevzumxgvne, ux ixevzurume\n",
      "Iteration: 9\n",
      "hwduytlwfumd, tw hwduytqtld\n",
      "Iteration: 10\n",
      "gvctxskvetlc, sv gvctxspskc\n",
      "Iteration: 11\n",
      "fubswrjudskb, ru fubswrorjb\n",
      "Iteration: 12\n",
      "etarvqitcrja, qt etarvqnqia\n",
      "Iteration: 13\n",
      "dszquphsbqiz, ps dszqupmphz\n",
      "Iteration: 14\n",
      "cryptography, or cryptology\n",
      "Iteration: 15\n",
      "bqxosnfqzogx, nq bqxosnknfx\n",
      "Iteration: 16\n",
      "apwnrmepynfw, mp apwnrmjmew\n",
      "Iteration: 17\n",
      "zovmqldoxmev, lo zovmqlildv\n",
      "Iteration: 18\n",
      "ynulpkcnwldu, kn ynulpkhkcu\n",
      "Iteration: 19\n",
      "xmtkojbmvkct, jm xmtkojgjbt\n",
      "Iteration: 20\n",
      "wlsjnialujbs, il wlsjnifias\n",
      "Iteration: 21\n",
      "vkrimhzktiar, hk vkrimhehzr\n",
      "Iteration: 22\n",
      "ujqhlgyjshzq, gj ujqhlgdgyq\n",
      "Iteration: 23\n",
      "tipgkfxirgyp, fi tipgkfcfxp\n",
      "Iteration: 24\n",
      "shofjewhqfxo, eh shofjebewo\n",
      "Iteration: 25\n",
      "rgneidvgpewn, dg rgneidadvn\n"
     ]
    }
   ],
   "source": [
    "# Perform a Brute Force attack\n",
    "file_path = os.path.join('ciphertext_caesar.txt')\n",
    "ciphertext = read_cipher(file_path)\n",
    "\n",
    "sample_cipher = ciphertext[:27]\n",
    "for i in range(len(ALPHABET)):\n",
    "    print(f\"Iteration: {i}\")\n",
    "    print(caesar_decoding(sample_cipher, i))"
   ]
  },
  {
   "attachments": {},
   "cell_type": "markdown",
   "id": "10f56c0b",
   "metadata": {},
   "source": [
    "Once the correct shift has been identified we use it to decode the whole ciphertext and save it into a .txt file. "
   ]
  },
  {
   "cell_type": "code",
   "execution_count": 6,
   "id": "2ce766d1",
   "metadata": {},
   "outputs": [],
   "source": [
    "# It generates a text file with the decoded plaintext\n",
    "def write_plaintext(plaintext, file_name):\n",
    "    try:\n",
    "        with open(file=os.path.join(file_name), mode='w', encoding='utf-8') as file:\n",
    "            file.write(plaintext)\n",
    "    except (IOError, OSError):\n",
    "        return \"It appears an error occurred while writing your file\"\n"
   ]
  },
  {
   "cell_type": "code",
   "execution_count": 7,
   "id": "aeeb5386-91a3-405a-81c8-7a106a44f12c",
   "metadata": {},
   "outputs": [
    {
     "name": "stdout",
     "output_type": "stream",
     "text": [
      "\n",
      "Shift is -> 14\n",
      "\n",
      "cryptography, or cryptology (from ancient greek: κρυπτός, romanized: kryptós \"hidden, secret\"; and γράφειν graphein, \"to write\", or -λογία -logia, \"study\", respectively), is the practice and study of techniques for secure communication in the presence of third parties called adversaries. more generally, cryptography is about constructing and analyzing protocols that prevent third parties or the public from reading private messages; various aspects in information security such as data confidentiality, data integrity, authentication, and non-repudiation are central to modern cryptography. modern cryptography exists at the intersection of the disciplines of mathematics, computer science, electrical engineering, communication science, and physics. applications of cryptography include electronic commerce, chip-based payment cards, digital currencies, computer passwords, and military communications.\n",
      "cryptography prior to the modern age was effectively synonymous with encryption, converting information from a readable state to unintelligible nonsense. the sender of an encrypted message shares the decoding technique only with intended recipients to preclude access from adversaries. the cryptography literature often uses the names alice (\"a\") for the sender, bob (\"b\") for the intended recipient, and eve (\"eavesdropper\") for the adversary. since the development of rotor cipher machines in world war i and the advent of computers in world war ii, cryptography methods have become increasingly complex and its applications more varied.\n",
      "modern cryptography is heavily based on mathematical theory and computer science practice; cryptographic algorithms are designed around computational hardness assumptions, making such algorithms hard to break in actual practice by any adversary. while it is theoretically possible to break into a well-designed such system, it is infeasible in actual practice to do so. such schemes, if well designed, are therefore termed \"computationally secure\"; theoretical advances, e.g., improvements in integer factorization algorithms, and faster computing technology require these designs to be continually reevaluated, and if necessary, adapted. there exist information-theoretically secure schemes that provably cannot be broken even with unlimited computing power, such as the one-time pad, but these schemes are much more difficult to use in practice than the best theoretically breakable but computationally secure schemes.\n",
      "the growth of cryptographic technology has raised a number of legal issues in the information age. cryptography's potential for use as a tool for espionage and sedition has led many governments to classify it as a weapon and to limit or even prohibit its use and export. in some jurisdictions where the use of cryptography is legal, laws permit investigators to compel the disclosure of encryption keys for documents relevant to an investigation. cryptography also plays a major role in digital rights management and copyright infringement disputes in regard to digital media.\n",
      "\n",
      "\n",
      "== terminology ==\n",
      "\n",
      "the first use of the term cryptograph (as opposed to cryptogram) dates back to the 19th century—originating from the gold-bug, a story by edgar allan poe.until modern times, cryptography referred almost exclusively to encryption, which is the process of converting ordinary information (called plaintext) into unintelligible form (called ciphertext). decryption is the reverse, in other words, moving from the unintelligible ciphertext back to plaintext. a cipher (or cypher) is a pair of algorithms that carry out the encryption and the reversing decryption. the detailed operation of a cipher is controlled both by the algorithm and, in each instance, by a \"key\". the key is a secret (ideally known only to the communicants), usually a string of characters (ideally short so it can be remembered by the user), which is needed to decrypt the ciphertext.  in formal mathematical terms, a \"cryptosystem\" is the ordered list of elements of finite possible plaintexts, finite possible cyphertexts, finite possible keys, and the encryption and decryption algorithms which correspond to each key.  keys are important both formally and in actual practice, as ciphers without variable keys can be trivially broken with only the knowledge of the cipher used and are therefore useless (or even counter-productive) for most purposes.\n",
      "historically, ciphers were often used directly for encryption or decryption without additional procedures such as authentication or integrity checks. there are, generally, two kinds of cryptosystems: symmetric and asymmetric. in symmetric systems, the only ones known until the 1970s, the same key (the secret key) is used to encrypt and decrypt a message. data manipulation in symmetric systems is faster than asymmetric systems in part because they generally use shorter key lengths. asymmetric systems use a \"public key\" to encrypt a message and a related \"private key\" to decrypt it. use of asymmetric systems enhances the security of communication, largely because the relation between the two keys is very hard to discover. examples of asymmetric systems include rsa (rivest–shamir–adleman), and ecc (elliptic curve cryptography). quality symmetric algorithms include the commonly used aes (advanced encryption standard) which replaced the older des (data encryption standard).  not very high quality symmetric algorithms include the assorted children's language tangling schemes such as pig latin or other cant, and indeed effectively all cryptographic schemes, however seriously intended, from any source prior to the invention of the one-time pad early in the 20th century. \n",
      "in colloquial use, the term \"code\" is often used to mean any method of encryption or concealment of meaning. however, in cryptography, code has a more specific meaning: the replacement of a unit of plaintext (i.e., a meaningful word or phrase) with a code word (for example, \"wallaby\" replaces \"attack at dawn\").  a cypher, in contrast, is a scheme for changing or substituting an element below such a level (a letter, or a syllable or a pair of letters or ...) in order to produce a cyphertext.\n",
      "cryptanalysis is the term used for the study of methods for obtaining the meaning of encrypted information without access to the key normally required to do so; i.e., it is the study of how to \"crack\" encryption algorithms or their implementations.\n",
      "some use the terms cryptography and cryptology interchangeably in english, while others (including us military practice generally) use cryptography to refer specifically to the use and practice of cryptographic techniques and cryptology to refer to the combined study of cryptography and cryptanalysis. english is more flexible than several other languages in which cryptology (done by cryptologists) is always used in the second sense above. rfc 2828 advises that steganography is sometimes included in cryptology.the study of characteristics of languages that have some application in cryptography or cryptology (e.g. frequency data, letter combinations, universal patterns, etc.) is called cryptolinguistics.\n",
      "\n",
      "\n",
      "== history of cryptography and cryptanalysis ==\n",
      "\n",
      "before the modern era, cryptography focused on message confidentiality (i.e., encryption)—conversion of messages from a comprehensible form into an incomprehensible one and back again at the other end, rendering it unreadable by interceptors or eavesdroppers without secret knowledge (namely the key needed for decryption of that message). encryption attempted to ensure secrecy in communications, such as those of spies, military leaders, and diplomats. in recent decades, the field has expanded beyond confidentiality concerns to include techniques for message integrity checking, sender/receiver identity authentication, digital signatures, interactive proofs and secure computation, among others.\n",
      "\n",
      "\n",
      "=== classic cryptography ===\n",
      "\n",
      "the main classical cipher types are transposition ciphers, which rearrange the order of letters in a message (e.g., 'hello world' becomes 'ehlol owrdl' in a trivially simple rearrangement scheme), and substitution ciphers, which systematically replace letters or groups of letters with other letters or groups of letters (e.g., 'fly at once' becomes 'gmz bu podf' by replacing each letter with the one following it in the latin alphabet). simple versions of either have never offered much confidentiality from enterprising opponents. an early substitution cipher was the caesar cipher, in which each letter in the plaintext was replaced by a letter some fixed number of positions further down the alphabet. suetonius reports that julius caesar used it with a shift of three to communicate with his generals. atbash is an example of an early hebrew cipher. the earliest known use of cryptography is some carved ciphertext on stone in egypt (ca 1900 bce), but this may have been done for the amusement of literate observers rather than as a way of concealing information.\n",
      "the greeks of classical times are said to have known of ciphers (e.g., the scytale transposition cipher claimed to have been used by the spartan military). steganography (i.e., hiding even the existence of a message so as to keep it confidential) was also first developed in ancient times. an early example, from herodotus, was a message tattooed on a slave's shaved head and concealed under the regrown hair. more modern examples of steganography include the use of invisible ink, microdots, and digital watermarks to conceal information.\n",
      "in india, the 2000-year-old kamasutra of vātsyāyana speaks of two different kinds of ciphers called kautiliyam and mulavediya. in the kautiliyam, the cipher letter substitutions are based on phonetic relations, such as vowels becoming consonants. in the mulavediya, the cipher alphabet consists of pairing letters and using the reciprocal ones.in sassanid persia, there were two secret scripts, according to the muslim author ibn al-nadim: the šāh-dabīrīya (literally \"king's script\") which was used for official correspondence, and the rāz-saharīya which was used to communicate secret messages with other countries.david kahn notes in the codebreakers that modern cryptology originated among the arabs, the first people to systematically document cryptanalytic methods. al-khalil (717–786) wrote the book of cryptographic messages, which contains the first use of permutations and combinations to list all possible arabic words with and without vowels.\n",
      "\n",
      "ciphertexts produced by a classical cipher (and some modern ciphers) will reveal statistical information about the plaintext, and that information can often be used to break the cipher. after the discovery of frequency analysis, by the arab mathematician and polymath al-kindi (also known as alkindus) in the 9th century, nearly all such ciphers could be broken by an informed attacker. such classical ciphers still enjoy popularity today, though mostly as puzzles. al-kindi wrote a book on cryptography entitled risalah fi istikhraj al-mu'amma (manuscript for the deciphering cryptographic messages), which described the first known use of frequency analysis and cryptanalysis techniques. an important contribution of ibn adlan (1187–1268) was on sample size for use of frequency analysis.\n",
      "\n",
      "language letter frequencies may offer little help for some extended historical encryption techniques such as homophonic cipher that tend to flatten the frequency distribution. for those ciphers, language letter group (or n-gram) frequencies may provide an attack.\n",
      "essentially all ciphers remained vulnerable to cryptanalysis using the frequency analysis technique until the development of the polyalphabetic cipher. while it was known to al-kindi to some extent, it was first clearly described in the work of al-qalqashandi (1355–1418), based on the earlier work of ibn al-durayhim (1312–1359), describing a polyalphabetic cipher in which each plaintext letter is assigned more than one substitute. it was later also described by leon battista alberti around the year 1467, though there is some indication that  alberti's method was to use different ciphers (i.e., substitution alphabets) for various parts of a message (perhaps for each successive plaintext letter at the limit). he also invented what was probably the first automatic cipher device, a wheel which implemented a partial realization of his invention. in the vigenère cipher, a polyalphabetic cipher, encryption uses a key word, which controls letter substitution depending on which letter of the key word is used. in the mid-19th century charles babbage showed that the vigenère cipher was vulnerable to kasiski examination, but this was first published about ten years later by friedrich kasiski.although frequency analysis can be a powerful and general technique against many ciphers, encryption has still often been effective in practice, as many a would-be cryptanalyst was unaware of the technique. breaking a message without using frequency analysis essentially required knowledge of the cipher used and perhaps of the key involved, thus making espionage, bribery, burglary, defection, etc., more attractive approaches to the cryptanalytically uninformed. it was finally explicitly recognized in the 19th century that secrecy of a cipher's algorithm is not a sensible nor practical safeguard of message security; in fact, it was further realized that any adequate cryptographic scheme (including ciphers) should remain secure even if the adversary fully understands the cipher algorithm itself. security of the key used should alone be sufficient for a good cipher to maintain confidentiality under an attack. this fundamental principle was first explicitly stated in 1883 by auguste kerckhoffs and is generally called kerckhoffs's principle; alternatively and more bluntly, it was restated by claude shannon, the inventor of information theory and the fundamentals of theoretical cryptography, as shannon's maxim—'the enemy knows the system'.\n",
      "different physical devices and aids have been used to assist with ciphers. one of the earliest may have been the scytale of ancient greece, a rod supposedly used by the spartans as an aid for a transposition cipher. in medieval times, other aids were invented such as the cipher grille, which was also used for a kind of steganography. with the invention of polyalphabetic ciphers came more sophisticated aids such as alberti's own cipher disk, johannes trithemius' tabula recta scheme, and thomas jefferson's wheel cypher (not publicly known, and reinvented independently by bazeries around 1900). many mechanical encryption/decryption devices were invented early in the 20th century, and several patented, among them rotor machines—famously including the enigma machine used by the german government and military from the late 1920s and during world war ii. the ciphers implemented by better quality examples of these machine designs brought about a substantial increase in cryptanalytic difficulty after wwi.\n",
      "\n",
      "\n",
      "=== computer era ===\n",
      "prior to the early 20th century, cryptography was mainly concerned with linguistic and lexicographic patterns. since then the emphasis has shifted, and cryptography now makes extensive use of mathematics, including aspects of information theory, computational complexity, statistics, combinatorics, abstract algebra, number theory, and finite mathematics generally. cryptography is also a branch of engineering, but an unusual one since it deals with active, intelligent, and malevolent opposition; other kinds of engineering (e.g., civil or chemical engineering) need deal only with neutral natural forces. there is also active research examining the relationship between cryptographic problems and quantum physics.\n",
      "just as the development of digital computers and electronics helped in cryptanalysis, it made possible much more complex ciphers. furthermore, computers allowed for the encryption of any kind of data representable in any binary format, unlike classical ciphers which only encrypted written language texts; this was new and significant. computer use has thus supplanted linguistic cryptography, both for cipher design and cryptanalysis. many computer ciphers can be characterized by their operation on binary bit sequences (sometimes in groups or blocks), unlike classical and mechanical schemes, which generally manipulate traditional characters (i.e., letters and digits) directly. however, computers have also assisted cryptanalysis, which has compensated to some extent for increased cipher complexity. nonetheless, good modern ciphers have stayed ahead of cryptanalysis; it is typically the case that use of a quality cipher is very efficient (i.e., fast and requiring few resources, such as memory or cpu capability), while breaking it requires an effort many orders of magnitude larger, and vastly larger than that required for any classical cipher, making cryptanalysis so inefficient and impractical as to be effectively impossible.\n",
      "\n",
      "\n",
      "=== advent of modern cryptography ===\n",
      "cryptanalysis of the new mechanical devices proved to be both difficult and laborious. in the united kingdom, cryptanalytic efforts at bletchley park during wwii spurred the development of more efficient means for carrying out repetitious tasks. this culminated in the development of the colossus, the world's first fully electronic, digital, programmable computer, which assisted in the decryption of ciphers generated by the german army's lorenz sz40/42 machine.\n",
      "extensive open academic research into cryptography is relatively recent; it began only in the mid-1970s. in recent times, ibm personnel designed the algorithm that became the federal (i.e., us) data encryption standard; whitfield diffie and martin hellman published their key agreement algorithm; and the rsa algorithm was published in martin gardner's scientific american column. following their work in 1976, it became popular to consider cryptography systems based on mathematical problems that are easy to state but have been found difficult to solve. since then, cryptography has become a widely used tool in communications, computer networks, and computer security generally. some modern cryptographic techniques can only keep their keys secret if certain mathematical problems are intractable, such as the integer factorization or the discrete logarithm problems, so there are deep connections with abstract mathematics. there are very few cryptosystems that are proven to be unconditionally secure. the one-time pad is one, and was proven to be so by claude shannon. there are a few important algorithms that have been proven secure under certain assumptions. for example, the infeasibility of factoring extremely large integers is the basis for believing that rsa is secure, and some other systems, but even so proof of unbreakability is unavailable since the underlying mathematical problem remains open. in practice, these are widely used, and are believed unbreakable in practice by most competent observers.  there are systems similar to rsa, such as one by michael o. rabin that are provably secure provided factoring  n = pq is impossible;  it is quite unusable in practice. the discrete logarithm problem is the basis for believing some other cryptosystems are secure, and again, there are related, less practical systems that are provably secure relative to the solvability or insolvability discrete log problem.as well as being aware of cryptographic history, cryptographic algorithm and system designers must also sensibly consider probable future developments while working on their designs. for instance, continuous improvements in computer processing power have increased the scope of brute-force attacks, so when specifying key lengths, the required key lengths are similarly advancing. the potential effects of quantum computing are already being considered by some cryptographic system designers developing post-quantum cryptography; the announced imminence of small implementations of these machines may be making the need for preemptive caution rather more than merely speculative.\n",
      "\n",
      "\n",
      "== modern cryptography ==\n",
      "\n",
      "\n",
      "=== symmetric-key cryptography ===\n",
      "\n",
      "symmetric-key cryptography refers to encryption methods in which both the sender and receiver share the same key (or, less commonly, in which their keys are different, but related in an easily computable way). this was the only kind of encryption publicly known until june 1976.\n",
      "\n",
      "symmetric key ciphers are implemented as either block ciphers or stream ciphers. a block cipher enciphers input in blocks of plaintext as opposed to individual characters, the input form used by a stream cipher.\n",
      "the data encryption standard (des) and the advanced encryption standard (aes) are block cipher designs that have been designated cryptography standards by the us government (though des's designation was finally withdrawn after the aes was adopted). despite its deprecation as an official standard, des (especially its still-approved and much more secure triple-des variant) remains quite popular; it is used across a wide range of applications, from atm encryption to e-mail privacy and secure remote access. many other block ciphers have been designed and released, with considerable variation in quality. many, even some designed by capable practitioners, have been thoroughly broken, such as feal.stream ciphers, in contrast to the 'block' type, create an arbitrarily long stream of key material, which is combined with the plaintext bit-by-bit or character-by-character, somewhat like the one-time pad. in a stream cipher, the output stream is created based on a hidden internal state that changes as the cipher operates. that internal state is initially set up using the secret key material. rc4 is a widely used stream cipher. block ciphers can be used as stream ciphers.\n",
      "cryptographic hash functions are a third type of cryptographic algorithm. they take a message of any length as input, and output a short, fixed length hash, which can be used in (for example) a digital signature. for good hash functions, an attacker cannot find two messages that produce the same hash. md4 is a long-used hash function that is now broken; md5, a strengthened variant of md4, is also widely used but broken in practice. the us national security agency developed the secure hash algorithm series of md5-like hash functions: sha-0 was a flawed algorithm that the agency withdrew; sha-1 is widely deployed and more secure than md5, but cryptanalysts have identified attacks against it; the sha-2 family improves on sha-1, but is vulnerable to clashes as of 2011; and the us standards authority thought it \"prudent\" from a security perspective to develop a new standard to \"significantly improve the robustness of nist's overall hash algorithm toolkit.\" thus, a hash function design competition was meant to select a new u.s. national standard, to be called sha-3, by 2012. the competition ended on october 2, 2012 when the nist announced that keccak would be the new sha-3 hash algorithm. unlike block and stream ciphers that are invertible, cryptographic hash functions produce a hashed output that cannot be used to retrieve the original input data. cryptographic hash functions are used to verify the authenticity of data retrieved from an untrusted source or to add a layer of security.\n",
      "message authentication codes (macs) are much like cryptographic hash functions, except that a secret key can be used to authenticate the hash value upon receipt; this additional complication blocks an attack scheme against bare digest algorithms, and so has been thought worth the effort.\n",
      "\n",
      "\n",
      "=== public-key cryptography ===\n",
      "\n",
      "symmetric-key cryptosystems use the same key for encryption and decryption of a message, although a message or group of messages can have a different key than others. a significant disadvantage of symmetric ciphers is the key management necessary to use them securely. each distinct pair of communicating parties must, ideally, share a different key, and perhaps for each ciphertext exchanged as well. the number of keys required increases as the square of the number of network members, which very quickly requires complex key management schemes to keep them all consistent and secret.\n",
      "\n",
      "in a groundbreaking 1976 paper, whitfield diffie and martin hellman proposed the notion of public-key (also, more generally, called asymmetric key) cryptography in which two different but mathematically related keys are used—a public key and a private key. a public key system is so constructed that calculation of one key (the 'private key') is computationally infeasible from the other (the 'public key'), even though they are necessarily related. instead, both keys are generated secretly, as an interrelated pair. the historian david kahn described public-key cryptography as \"the most revolutionary new concept in the field since polyalphabetic substitution emerged in the renaissance\".in public-key cryptosystems, the public key may be freely distributed, while its paired private key must remain secret. in a public-key encryption system, the public key is used for encryption, while the private or secret key is used for decryption. while diffie and hellman could not find such a system, they showed that public-key cryptography was indeed possible by presenting the diffie–hellman key exchange protocol, a solution that is now widely used in secure communications to allow two parties to secretly agree on a shared encryption key. \n",
      "the x.509 standard defines the most commonly used format for public key certificates.diffie and hellman's publication sparked widespread academic efforts in finding a practical public-key encryption system. this race was finally won in 1978 by ronald rivest, adi shamir, and len adleman, whose solution has since become known as the rsa algorithm.the diffie–hellman and rsa algorithms, in addition to being the first publicly known examples of high quality public-key algorithms, have been among the most widely used. other asymmetric-key algorithms include the cramer–shoup cryptosystem, elgamal encryption, and various elliptic curve techniques.a document published in 1997 by the government communications headquarters (gchq), a british intelligence organization, revealed that cryptographers at gchq had anticipated several academic developments. reportedly, around 1970, james h. ellis had conceived the principles of asymmetric key cryptography. in 1973, clifford cocks invented a solution that very similar in design rationale to rsa. and in 1974, malcolm j. williamson is claimed to have developed the diffie–hellman key exchange.\n",
      "\n",
      "public-key cryptography is also used for implementing digital signature schemes. a digital signature is reminiscent of an ordinary signature; they both have the characteristic of being easy for a user to produce, but difficult for anyone else to forge. digital signatures can also be permanently tied to the content of the message being signed; they cannot then be 'moved' from one document to another, for any attempt will be detectable. in digital signature schemes, there are two algorithms: one for signing, in which a secret key is used to process the message (or a hash of the message, or both), and one for verification, in which the matching public key is used with the message to check the validity of the signature. rsa and dsa are two of the most popular digital signature schemes. digital signatures are central to the operation of public key infrastructures and many network security schemes (e.g., ssl/tls, many vpns, etc.).public-key algorithms are most often based on the computational complexity of \"hard\" problems, often from number theory. for example, the hardness of rsa is related to the integer factorization problem, while diffie–hellman and dsa are related to the discrete logarithm problem. the security of elliptic curve cryptography is based on number theoretic problems involving elliptic curves. because of the difficulty of the underlying problems, most public-key algorithms involve operations such as modular multiplication and exponentiation, which are much more computationally expensive than the techniques used in most block ciphers, especially with typical key sizes. as a result, public-key cryptosystems are commonly hybrid cryptosystems, in which a fast high-quality symmetric-key encryption algorithm is used for the message itself, while the relevant symmetric key is sent with the message, but encrypted using a public-key algorithm. similarly, hybrid signature schemes are often used, in which a cryptographic hash function is computed, and only the resulting hash is digitally signed.\n",
      "\n",
      "\n",
      "=== cryptanalysis ===\n",
      "\n",
      "the goal of cryptanalysis is to find some weakness or insecurity in a cryptographic scheme, thus permitting its subversion or evasion.\n",
      "it is a common misconception that every encryption method can be broken. in connection with his wwii work at bell labs, claude shannon proved that the one-time pad cipher is unbreakable, provided the key material is truly random, never reused, kept secret from all possible attackers, and of equal or greater length than the message. most ciphers, apart from the one-time pad, can be broken with enough computational effort by brute force attack, but the amount of effort needed may be exponentially dependent on the key size, as compared to the effort needed to make use of the cipher. in such cases, effective security could be achieved if it is proven that the effort required (i.e., \"work factor\", in shannon's terms) is beyond the ability of any adversary. this means it must be shown that no efficient method (as opposed to the time-consuming brute force method) can be found to break the cipher. since no such proof has been found to date, the one-time-pad remains the only theoretically unbreakable cipher.\n",
      "there are a wide variety of cryptanalytic attacks, and they can be classified in any of several ways. a common distinction turns on what eve (an attacker) knows and what capabilities are available. in a ciphertext-only attack, eve has access only to the ciphertext (good modern cryptosystems are usually effectively immune to ciphertext-only attacks). in a known-plaintext attack, eve has access to a ciphertext and its corresponding plaintext (or to many such pairs). in a chosen-plaintext attack, eve may choose a plaintext and learn its corresponding ciphertext (perhaps many times); an example is gardening, used by the british during wwii. in a chosen-ciphertext attack, eve may be able to choose ciphertexts and learn their corresponding plaintexts. finally in a man-in-the-middle attack eve gets in between alice (the sender) and bob (the recipient), accesses and modifies the traffic and then forwards it to the recipient. also important, often overwhelmingly so, are mistakes (generally in the design or use of one of the protocols involved).\n",
      "\n",
      "cryptanalysis of symmetric-key ciphers typically involves looking for attacks against the block ciphers or stream ciphers that are more efficient than any attack that could be against a perfect cipher. for example, a simple brute force attack against des requires one known plaintext and 255 decryptions, trying approximately half of the possible keys, to reach a point at which chances are better than even that the key sought will have been found. but this may not be enough assurance; a linear cryptanalysis attack against des requires 243 known plaintexts (with their corresponding ciphertexts) and approximately 243 des operations. this is a considerable improvement over brute force attacks.\n",
      "public-key algorithms are based on the computational difficulty of various problems. the most famous of these are the difficulty of integer factorization of semiprimes and the difficulty of calculating discrete logarithms, both of which are not yet proven to be solvable in polynomial time using only a classical turing-complete computer. much public-key cryptanalysis concerns designing algorithms in p that can solve these problems, or using other technologies, such as quantum computers. for instance, the best known algorithms for solving the elliptic curve-based version of discrete logarithm are much more time-consuming than the best known algorithms for factoring, at least for problems of more or less equivalent size. thus, other things being equal, to achieve an equivalent strength of attack resistance, factoring-based encryption techniques must use larger keys than elliptic curve techniques. for this reason, public-key cryptosystems based on elliptic curves have become popular since their invention in the mid-1990s.\n",
      "while pure cryptanalysis uses weaknesses in the algorithms themselves, other attacks on cryptosystems are based on actual use of the algorithms in real devices, and are called side-channel attacks. if a cryptanalyst has access to, for example, the amount of time the device took to encrypt a number of plaintexts or report an error in a password or pin character, he may be able to use a timing attack to break a cipher that is otherwise resistant to analysis. an attacker might also study the pattern and length of messages to derive valuable information; this is known as traffic analysis and can be quite useful to an alert adversary. poor administration of a cryptosystem, such as permitting too short keys, will make any system vulnerable, regardless of other virtues. social engineering and other attacks against humans (e.g., bribery, extortion, blackmail, espionage, torture, ...) are usually employed due to being more cost-effective and feasible to perform in a reasonable amount of time compared to pure cryptanalysis by a high margin.\n",
      "\n",
      "\n",
      "=== cryptographic primitives ===\n",
      "much of the theoretical work in cryptography concerns cryptographic primitives—algorithms with basic cryptographic properties—and their relationship to other cryptographic problems. more complicated cryptographic tools are then built from these basic primitives. these primitives provide fundamental properties, which are used to develop more complex tools called cryptosystems or cryptographic protocols, which guarantee one or more high-level security properties. note however, that the distinction between cryptographic primitives and cryptosystems, is quite arbitrary; for example, the rsa algorithm is sometimes considered a cryptosystem, and sometimes a primitive. typical examples of cryptographic primitives include pseudorandom functions, one-way functions, etc.\n",
      "\n",
      "\n",
      "=== cryptosystems ===\n",
      "one or more cryptographic primitives are often used to develop a more complex algorithm, called a cryptographic system, or cryptosystem. cryptosystems (e.g., el-gamal encryption) are designed to provide particular functionality (e.g., public key encryption) while guaranteeing certain security properties (e.g., chosen-plaintext attack (cpa) security in the random oracle model). cryptosystems use the properties of the underlying cryptographic primitives to support the system's security properties. as the distinction between primitives and cryptosystems is somewhat arbitrary, a sophisticated cryptosystem can be derived from a combination of several more primitive cryptosystems. in many cases, the cryptosystem's structure involves back and forth communication among two or more parties in space (e.g., between the sender of a secure message and its receiver) or across time (e.g., cryptographically protected backup data). such cryptosystems are sometimes called cryptographic protocols.\n",
      "some widely known cryptosystems include rsa encryption, schnorr signature, el-gamal encryption, pgp, etc. more complex cryptosystems include electronic cash systems, signcryption systems, etc. some more 'theoretical' cryptosystems include interactive proof systems, (like zero-knowledge proofs), systems for secret sharing, etc.\n",
      "\n",
      "\n",
      "== legal issues ==\n",
      "\n",
      "\n",
      "=== prohibitions ===\n",
      "cryptography has long been of interest to intelligence gathering and law enforcement agencies. secret communications may be criminal or even treasonous. because of its facilitation of privacy, and the diminution of privacy attendant on its prohibition, cryptography is also of considerable interest to civil rights supporters. accordingly, there has been a history of controversial legal issues surrounding cryptography, especially since the advent of inexpensive computers has made widespread access to high quality cryptography possible.\n",
      "in some countries, even the domestic use of cryptography is, or has been, restricted. until 1999, france significantly restricted the use of cryptography domestically, though it has since relaxed many of these rules. in china and iran, a license is still required to use cryptography. many countries have tight restrictions on the use of cryptography. among the more restrictive are laws in belarus, kazakhstan, mongolia, pakistan, singapore, tunisia, and vietnam.in the united states, cryptography is legal for domestic use, but there has been much conflict over legal issues related to cryptography. one particularly important issue has been the export of cryptography and cryptographic software and hardware. probably because of the importance of cryptanalysis in world war ii and an expectation that cryptography would continue to be important for national security, many western governments have, at some point, strictly regulated export of cryptography. after world war ii, it was illegal in the us to sell or distribute encryption technology overseas; in fact, encryption was designated as auxiliary military equipment and put on the united states munitions list. until the development of the personal computer, asymmetric key algorithms (i.e., public key techniques), and the internet, this was not especially problematic. however, as the internet grew and computers became more widely available, high-quality encryption techniques became well known around the globe.\n",
      "\n",
      "\n",
      "=== export controls ===\n",
      "\n",
      "in the 1990s, there were several challenges to us export regulation of cryptography. after the source code for philip zimmermann's pretty good privacy (pgp) encryption program found its way onto the internet in june 1991, a complaint by rsa security (then called rsa data security, inc.) resulted in a lengthy criminal investigation of zimmermann by the us customs service and the fbi, though no charges were ever filed. daniel j. bernstein, then a graduate student at uc berkeley, brought a lawsuit against the us government challenging some aspects of the restrictions based on free speech grounds. the 1995 case bernstein v. united states ultimately resulted in a 1999 decision that printed source code for cryptographic algorithms and systems was protected as free speech by the united states constitution.in 1996, thirty-nine countries signed the wassenaar arrangement, an arms control treaty that deals with the export of arms and \"dual-use\" technologies such as cryptography. the treaty stipulated that the use of cryptography with short key-lengths (56-bit for symmetric encryption, 512-bit for rsa) would no longer be export-controlled. cryptography exports from the us became less strictly regulated as a consequence of a major relaxation in 2000; there are no longer very many restrictions on key sizes in us-exported mass-market software. since this relaxation in us export restrictions, and because most personal computers connected to the internet include us-sourced web browsers such as firefox or internet explorer, almost every internet user worldwide has potential access to quality cryptography via their browsers (e.g., via transport layer security). the mozilla thunderbird and microsoft outlook e-mail client programs similarly can transmit and receive emails via tls, and can send and receive email encrypted with s/mime. many internet users don't realize that their basic application software contains such extensive cryptosystems. these browsers and email programs are so ubiquitous that even governments whose intent is to regulate civilian use of cryptography generally don't find it practical to do much to control distribution or use of cryptography of this quality, so even when such laws are in force, actual enforcement is often effectively impossible.\n",
      "\n",
      "\n",
      "=== nsa involvement ===\n",
      "\n",
      "another contentious issue connected to cryptography in the united states is the influence of the national security agency on cipher development and policy. the nsa was involved with the design of des during its development at ibm and its consideration by the national bureau of standards as a possible federal standard for cryptography. des was designed to be resistant to differential cryptanalysis, a powerful and general cryptanalytic technique known to the nsa and ibm, that became publicly known only when it was rediscovered in the late 1980s. according to steven levy, ibm discovered differential cryptanalysis, but kept the technique secret at the nsa's request. the technique became publicly known only when biham and shamir re-discovered and announced it some years later. the entire affair illustrates the difficulty of determining what resources and knowledge an attacker might actually have.\n",
      "another instance of the nsa's involvement was the 1993 clipper chip affair, an encryption microchip intended to be part of the capstone cryptography-control initiative. clipper was widely criticized by cryptographers for two reasons. the cipher algorithm (called skipjack) was then classified (declassified in 1998, long after the clipper initiative lapsed). the classified cipher caused concerns that the nsa had deliberately made the cipher weak in order to assist its intelligence efforts. the whole initiative was also criticized based on its violation of kerckhoffs's principle, as the scheme included a special escrow key held by the government for use by law enforcement (i.e. wiretapping).\n",
      "\n",
      "\n",
      "=== digital rights management ===\n",
      "\n",
      "cryptography is central to digital rights management (drm), a group of techniques for technologically controlling use of copyrighted material, being widely implemented and deployed at the behest of some copyright holders. in 1998, u.s. president bill clinton signed the digital millennium copyright act (dmca), which criminalized all production, dissemination, and use of certain cryptanalytic techniques and technology (now known or later discovered); specifically, those that could be used to circumvent drm technological schemes. this had a noticeable impact on the cryptography research community since an argument can be made that any cryptanalytic research violated the dmca. similar statutes have since been enacted in several countries and regions, including the implementation in the eu copyright directive. similar restrictions are called for by treaties signed by world intellectual property organization member-states.\n",
      "the united states department of justice and fbi have not enforced the dmca as rigorously as had been feared by some, but the law, nonetheless, remains a controversial one. niels ferguson, a well-respected cryptography researcher, has publicly stated that he will not release some of his research into an intel security design for fear of prosecution under the dmca. cryptologist bruce schneier has argued that the dmca encourages vendor lock-in, while inhibiting actual measures toward cyber-security. both alan cox (longtime linux kernel developer) and edward felten (and some of his students at princeton) have encountered problems related to the act. dmitry sklyarov was arrested during a visit to the us from russia, and jailed for five months pending trial for alleged violations of the dmca arising from work he had done in russia, where the work was legal. in 2007, the cryptographic keys responsible for blu-ray and hd dvd content scrambling were discovered and released onto the internet. in both cases, the motion picture association of america sent out numerous dmca takedown notices, and there was a massive internet backlash triggered by the perceived impact of such notices on fair use and free speech.\n",
      "\n",
      "\n",
      "=== forced disclosure of encryption keys ===\n",
      "\n",
      "in the united kingdom, the regulation of investigatory powers act gives uk police the powers to force suspects to decrypt files or hand over passwords that protect encryption keys. failure to comply is an offense in its own right, punishable on conviction by a two-year jail sentence or up to five years in cases involving national security. successful prosecutions have occurred under the act; the first, in 2009, resulted in a term of 13 months' imprisonment. similar forced disclosure laws in australia, finland, france, and india compel individual suspects under investigation to hand over encryption keys or passwords during a criminal investigation.\n",
      "in the united states, the federal criminal case of united states v. fricosu addressed whether a search warrant can compel a person to reveal an encryption passphrase or password. the electronic frontier foundation (eff) argued that this is a violation of the protection from self-incrimination given by the fifth amendment. in 2012, the court ruled that under the all writs act, the defendant was required to produce an unencrypted hard drive for the court.in many jurisdictions, the legal status of forced disclosure remains unclear.\n",
      "the 2016 fbi–apple encryption dispute concerns the ability of courts in the united states to compel manufacturers' assistance in unlocking cell phones whose contents are cryptographically protected.\n",
      "as a potential counter-measure to forced disclosure some cryptographic software supports plausible deniability, where the encrypted data is indistinguishable from unused random data (for example such as that of a drive which has been securely wiped).\n",
      "\n",
      "\n",
      "== see also ==\n",
      "outline of cryptography – overview of and topical guide to cryptography\n",
      "list of cryptographers – wikipedia list article\n",
      "list of important publications in cryptography – wikipedia list article\n",
      "list of multiple discoveries – wikipedia list article\n",
      "list of unsolved problems in computer science – wikipedia list article\n",
      "syllabical and steganographical table – eighteenth-century work believed to be the first cryptography chart – first cryptography chart\n",
      "comparison of cryptography libraries\n",
      "crypto wars\n",
      "encyclopedia of cryptography and security – book by technische universiteit eindhoven\n",
      "global surveillance – mass surveillance across national borders\n",
      "information theory – theory dealing with information\n",
      "strong cryptography\n",
      "world wide web consortium's web cryptography api\n",
      "collision attack\n",
      "\n",
      "\n",
      "== references ==\n",
      "\n",
      "\n",
      "== further reading ==\n",
      "\n",
      "\n",
      "== external links ==\n",
      " the dictionary definition of cryptography at wiktionary\n",
      " media related to cryptography at wikimedia commons\n",
      "cryptography on in our time at the bbc\n",
      "crypto glossary and dictionary of technical cryptography\n",
      "nsa's cryptokids.\n",
      "overview and applications of cryptology by the cryptool team; pdf; 3.8 mb. july 2008\n",
      "a course in cryptography by raphael pass & abhi shelat – offered at cornell in the form of lecture notes.\n",
      "for more on the use of cryptographic elements in fiction, see: dooley, john f., william and marilyn ingersoll professor of computer science, knox college (23 august 2012). \"cryptology in fiction\".\n",
      "the george fabyan collection at the library of congress has early editions of works of seventeenth-century english literature, publications relating to cryptography.\n"
     ]
    }
   ],
   "source": [
    "# Print decrypted plaintext and the key (shift)\n",
    "print(f\"\\nShift is -> {SHIFT_EXERCISE}\\n\" )\n",
    "complete_plaintext = caesar_decoding(ciphertext, SHIFT_EXERCISE)\n",
    "print(complete_plaintext)\n",
    "write_plaintext(complete_plaintext, \"caesar_plaintext\")"
   ]
  },
  {
   "cell_type": "markdown",
   "id": "9503d65c",
   "metadata": {},
   "source": [
    "## Simple Substitution Cipher"
   ]
  },
  {
   "cell_type": "markdown",
   "id": "1142538f-3869-4cde-b822-e75b386169ad",
   "metadata": {},
   "source": [
    "In a simple substitution cipher every letter of the plaintext is replaced with a random one. "
   ]
  },
  {
   "attachments": {},
   "cell_type": "markdown",
   "id": "7d156339-cebb-4302-9ee2-a74cc5b87866",
   "metadata": {},
   "source": [
    "Since there is a random mapping between the plaintext letters and the ciphered ones, a brute force attack is no longer feasible due to its very demanding computational power since there are $26! \\sim 10^{26}$ possible encoding rules. \n",
    "Hence, one way to perform the decryption is using the frequency analysis. "
   ]
  },
  {
   "cell_type": "markdown",
   "id": "e28968b7",
   "metadata": {},
   "source": [
    "### Decoder"
   ]
  },
  {
   "attachments": {},
   "cell_type": "markdown",
   "id": "3cc7ae6e-3bfb-43e3-838e-53ed1c7f382a",
   "metadata": {
    "jp-MarkdownHeadingCollapsed": true,
    "tags": []
   },
   "source": [
    "In the decoding function the rule is indexed with each character of the ciphertext; those characters are then substituted with their corresponding letter that has been computed through the frequency analysis. "
   ]
  },
  {
   "cell_type": "code",
   "execution_count": 8,
   "id": "adb6fd3b",
   "metadata": {},
   "outputs": [],
   "source": [
    "def substitution_decoding(ciphertext, rule):\n",
    "    plaintext = [rule[character] if 97 <= ord(character) <= 122 else character for character in ciphertext]\n",
    "    return ''.join(plaintext)"
   ]
  },
  {
   "cell_type": "code",
   "execution_count": 9,
   "id": "33b9b1e0-9132-4147-8d14-5b036f7a0658",
   "metadata": {},
   "outputs": [
    {
     "name": "stdout",
     "output_type": "stream",
     "text": [
      "apwwq -> hello\n"
     ]
    }
   ],
   "source": [
    "# Test your function\n",
    "test_rule = {\"a\":\"h\", \"p\":\"e\",\"w\":\"l\",\"q\":\"o\"}\n",
    "print(\"apwwq ->\", substitution_decoding(\"apwwq\", test_rule))\n"
   ]
  },
  {
   "cell_type": "markdown",
   "id": "68a41fcd",
   "metadata": {},
   "source": [
    "### Ciphertext"
   ]
  },
  {
   "cell_type": "code",
   "execution_count": 10,
   "id": "8d8aa5ee-a119-48c0-a9e8-3b4b8a3cb034",
   "metadata": {},
   "outputs": [],
   "source": [
    "# Load ciphertext\n",
    "ciphertext = read_cipher(os.path.join(\"ciphertext_simple.txt\"))"
   ]
  },
  {
   "cell_type": "markdown",
   "id": "843e03cd",
   "metadata": {},
   "source": [
    "### Frequency Analysis"
   ]
  },
  {
   "attachments": {},
   "cell_type": "markdown",
   "id": "456bfb67",
   "metadata": {},
   "source": [
    "In order to perform frequency analysis on the chipertext we need to compute the distribution of the letters of the reference text. The reason behind this is because letters are not uniformly distributed but rather certain characters have a higher probability than others to occur in a text. For instance, in english the letter \"e\" is the most common one and we can exploit this to decrypt a ciphertext encrypted with a simple substitution cipher. "
   ]
  },
  {
   "cell_type": "code",
   "execution_count": 11,
   "id": "e835f650-3896-49e8-93d7-8ad609e1dbdc",
   "metadata": {},
   "outputs": [],
   "source": [
    "# Load the true letter frequency distribution computed in Homework\n",
    "def read_pickle(file_name, bonus=False):\n",
    "    with open(file=file_name, mode='rb') as file:\n",
    "        eng_dist = pickle.load(file)\n",
    "\n",
    "    if bonus:\n",
    "        eng_dist = dict(sorted(eng_dist.items(), key=lambda x: x[1], reverse=True))\n",
    "    return eng_dist\n",
    "\n",
    "def letter_dist(ciphertext, bonus=False):\n",
    "    freq = list(ciphertext.lower().count(letter) for letter in ALPHABET)\n",
    "    prob = freq / np.sum(freq)\n",
    "    ciph_dist = dict(zip(ALPHABET, prob))\n",
    "    if bonus:\n",
    "        ciph_dist = dict(sorted(ciph_dist.items(), key=lambda x: x[1], reverse=True))\n",
    "    return ciph_dist\n",
    "\n",
    "\n",
    "\n",
    "eng_dist = read_pickle(os.path.join(\"letters-freq.pkl\"), True)\n",
    "ciph_dist = letter_dist(ciphertext, True)"
   ]
  },
  {
   "cell_type": "markdown",
   "id": "b38a6e83",
   "metadata": {},
   "source": [
    "Two distribution graphs have been plotted showing the distribution of the letters (in an ascending order) corresponding to english reference text and the ciphertext. "
   ]
  },
  {
   "cell_type": "code",
   "execution_count": 12,
   "id": "9d08692b-e7c2-4133-a603-f26d44dd1dc8",
   "metadata": {},
   "outputs": [
    {
     "data": {
      "image/png": "[encoded data removed]",
      "text/plain": [
       "<Figure size 640x480 with 2 Axes>"
      ]
     },
     "metadata": {},
     "output_type": "display_data"
    }
   ],
   "source": [
    "# Plot the distribution\n",
    "def plot_me(funs_list):\n",
    "    fig, ax = plt.subplots(len(funs_list), 1)\n",
    "    for i, fun in enumerate(funs_list):\n",
    "        ax[i].bar(fun[0].keys(), fun[0].values())\n",
    "        ax[i].set(ylabel='frequency', xlabel='letters', title=fun[1])\n",
    "    fig.tight_layout()\n",
    "    plt.show()\n",
    "\n",
    "\n",
    "plot_me([[eng_dist, \"English Alphabet Distribution\"], [ciph_dist, \"Ciphertext Alphabet Distribution\"]])\n"
   ]
  },
  {
   "attachments": {},
   "cell_type": "markdown",
   "id": "46d87021",
   "metadata": {},
   "source": [
    "An initial guess for the rule is considering a rough direct mapping of the two distributions depicted above. "
   ]
  },
  {
   "cell_type": "code",
   "execution_count": 13,
   "id": "af14a82e-0202-4d9f-abb3-e1feba2c439c",
   "metadata": {},
   "outputs": [
    {
     "name": "stdout",
     "output_type": "stream",
     "text": [
      "english_alphabet: etaoinshrdlucmfwgypbvkxjqz\n",
      "\n",
      "cipher_alphabet:  reyjxfwvmhtblcnisodazqupkg\n",
      "\n",
      "ldamue edpnnu srattnt (afhid 30, 1916 – webhmahy 24, 2001) pas at acehilat caorecaoiliat, edelohilad etgiteeh, atu lhyfonghafreh ktnpt as \"ore waoreh nw itwnhcaoint orenhy\". srattnt is tnoeu wnh ravitg wnmtueu itwnhcaoint orenhy pior a datucahk fafeh, \"a caorecaoilad orenhy nw lnccmtilaoint\", prilr re fmbdisreu it 1948.\n",
      "re is adsn pedd ktnpt wnh wnmtuitg uigioad lihlmio uesigt orenhy it 1937, pret—as a 21-yeah-ndu casoeh's ueghee somueto ao ore cassalrmseoos itsoiomoe nw oelrtndngy (cio)—re phnoe ris oresis uecntsohaoitg orao edelohilad affdilaoints nw bnndeat adgebha lnmdu lntsohmlo aty dngilad tmcehilad hedaointsrif. srattnt lntohibmoeu on ore wiedu nw lhyfoatadysis wnh taointad uewetse umhitg pnhdu pah ii, itldmuitg ris wmtuacetoad pnhk nt lnuebheakitg atu selmhe oedelnccmtilaoints.\n",
      "\n",
      "\n",
      "== binghafry ==\n",
      "\n",
      "\n",
      "=== lridurnnu ===\n",
      "ore srattnt wacidy diveu it gaydnhu, cilrigat, atu ldamue pas bnht it a rnsfioad it teahby feonskey. ris waoreh, ldamue sh. (1862–1934) pas a bmsitesscat atu wnh a p\n"
     ]
    }
   ],
   "source": [
    "# Perform the Frequency Analysis attack\n",
    "rule = dict(zip(ciph_dist.keys(), eng_dist.keys()))\n",
    "print(f\"english_alphabet: {''.join(rule.values())}\\n\")\n",
    "print(f\"cipher_alphabet:  {''.join(rule.keys())}\\n\")\n",
    "\n",
    "cip_sample = ciphertext[:1000]\n",
    "plaintext = substitution_decoding(cip_sample, rule)\n",
    "print(plaintext)"
   ]
  },
  {
   "attachments": {},
   "cell_type": "markdown",
   "id": "791f255f",
   "metadata": {},
   "source": [
    "As expected the previous rule is incorrect, because the distribution of the letter in the ciphertext aside from the first characters are pretty uniform and does not map correctly. This mapping is not completely useless since we can use it as an initial guess and we can infer at least the first letters."
   ]
  },
  {
   "attachments": {},
   "cell_type": "markdown",
   "id": "018f4cf0",
   "metadata": {},
   "source": [
    "In order to correct the rule we have visually inspected the plaintext decrypted with this rule. In the first row we have detected a common pattern which resembles a date (afhid 30, 1916), since we have assumed that the letter \"a\" is correctly mapped we can safely assume that the word \"afhid\" corresponds to the month of the year \"april\" because it is the only one that starts with the letter \"a\".\n",
    " The rule has been modified according to this consideration. "
   ]
  },
  {
   "cell_type": "code",
   "execution_count": 14,
   "id": "195bc409",
   "metadata": {},
   "outputs": [
    {
     "name": "stdout",
     "output_type": "stream",
     "text": [
      "dlamue elfnnu shattnt (april 30, 1916 – webrmary 24, 2001) fas at aceridat caohecaoidiat, eledoridal etgiteer, atu drypongrapher ktnft as \"ohe waoher nw itwnrcaoint ohenry\". shattnt is tnoeu wnr havitg wnmtueu itwnrcaoint ohenry fioh a latucark paper, \"a caohecaoidal ohenry nw dnccmtidaoint\", fhidh he pmblisheu it 1948.\n",
      "he is alsn fell ktnft wnr wnmtuitg uigioal dirdmio uesigt ohenry it 1937, fhet—as a 21-year-nlu casoer's uegree somueto ao ohe cassadhmseoos itsoiomoe nw oedhtnlngy (cio)—he frnoe his ohesis uecntsoraoitg ohao eledoridal applidaoints nw bnnleat algebra dnmlu dntsormdo aty lngidal tmceridal relaointship. shattnt dntoribmoeu on ohe wielu nw drypoatalysis wnr taointal uewetse umritg fnrlu far ii, itdlmuitg his wmtuacetoal fnrk nt dnuebreakitg atu sedmre oelednccmtidaoints.\n",
      "\n",
      "\n",
      "== bingraphy ==\n",
      "\n",
      "\n",
      "=== dhiluhnnu ===\n",
      "ohe shattnt wacily liveu it gaylnru, cidhigat, atu dlamue fas bnrt it a hnspioal it tearby peonskey. his waoher, dlamue sr. (1862–1934) fas a bmsitesscat atu wnr a f\n"
     ]
    }
   ],
   "source": [
    "\n",
    "rule['n'], rule['d'] = 'p', 'f'\n",
    "rule['v'], rule['m'] = 'r', 'h'\n",
    "rule['h'], rule['t'] = 'l', 'd'\n",
    "plaintext = substitution_decoding(cip_sample, rule)\n",
    "print(plaintext)\n"
   ]
  },
  {
   "cell_type": "markdown",
   "id": "6cf5faf5",
   "metadata": {},
   "source": [
    "We can keep following this reasoning, for example: \"webrmary 24, 2001\" -> \"february 24, 2001\""
   ]
  },
  {
   "cell_type": "code",
   "execution_count": 15,
   "id": "a4cb6c55",
   "metadata": {},
   "outputs": [
    {
     "name": "stdout",
     "output_type": "stream",
     "text": [
      "dlaume elwnnm shattnt (april 30, 1916 – february 24, 2001) was at aceridat caohecaoidiat, eledoridal etgiteer, atm drypongrapher ktnwt as \"ohe faoher nf itfnrcaoint ohenry\". shattnt is tnoem fnr havitg fnutmem itfnrcaoint ohenry wioh a latmcark paper, \"a caohecaoidal ohenry nf dnccutidaoint\", whidh he publishem it 1948.\n",
      "he is alsn well ktnwt fnr fnutmitg migioal dirduio mesigt ohenry it 1937, whet—as a 21-year-nlm casoer's megree soumeto ao ohe cassadhuseoos itsoiouoe nf oedhtnlngy (cio)—he wrnoe his ohesis mecntsoraoitg ohao eledoridal applidaoints nf bnnleat algebra dnulm dntsorudo aty lngidal tuceridal relaointship. shattnt dntoribuoem on ohe fielm nf drypoatalysis fnr taointal mefetse muritg wnrlm war ii, itdlumitg his futmacetoal wnrk nt dnmebreakitg atm sedure oelednccutidaoints.\n",
      "\n",
      "\n",
      "== bingraphy ==\n",
      "\n",
      "\n",
      "=== dhilmhnnm ===\n",
      "ohe shattnt facily livem it gaylnrm, cidhigat, atm dlaume was bnrt it a hnspioal it tearby peonskey. his faoher, dlaume sr. (1862–1934) was a busitesscat atm fnr a w\n"
     ]
    }
   ],
   "source": [
    "rule['i'], rule['d'] = 'f', 'w'\n",
    "rule['c'], rule['b'] = 'u', 'm'\n",
    "plaintext = substitution_decoding(cip_sample, rule)\n",
    "print(plaintext)"
   ]
  },
  {
   "cell_type": "markdown",
   "id": "3b8de605",
   "metadata": {},
   "source": [
    "\"== bingraphy ==\" -> \"== biography ==\""
   ]
  },
  {
   "cell_type": "code",
   "execution_count": 16,
   "id": "c2321987",
   "metadata": {},
   "outputs": [
    {
     "name": "stdout",
     "output_type": "stream",
     "text": [
      "dlaume elwoom shattot (april 30, 1916 – february 24, 2001) was at aceridat canhecanidiat, elednridal etgiteer, atm drypnographer ktowt as \"nhe fanher of itforcaniot nheory\". shattot is tonem for havitg foutmem itforcaniot nheory winh a latmcark paper, \"a canhecanidal nheory of doccutidaniot\", whidh he publishem it 1948.\n",
      "he is also well ktowt for foutmitg miginal dirduin mesigt nheory it 1937, whet—as a 21-year-olm casner's megree snumetn an nhe cassadhusenns itsninune of nedhtology (cin)—he wrone his nhesis mecotsnranitg nhan elednridal applidaniots of booleat algebra doulm dotsnrudn aty logidal tuceridal relaniotship. shattot dotnribunem no nhe fielm of drypnatalysis for taniotal mefetse muritg worlm war ii, itdlumitg his futmacetnal work ot domebreakitg atm sedure neledoccutidaniots.\n",
      "\n",
      "\n",
      "== biography ==\n",
      "\n",
      "\n",
      "=== dhilmhoom ===\n",
      "nhe shattot facily livem it gaylorm, cidhigat, atm dlaume was bort it a hospinal it tearby penoskey. his fanher, dlaume sr. (1862–1934) was a busitesscat atm for a w\n"
     ]
    }
   ],
   "source": [
    "rule['f'], rule['j'] = 'o', 'n'\n",
    "plaintext = substitution_decoding(cip_sample, rule)\n",
    "print(plaintext)\n"
   ]
  },
  {
   "cell_type": "markdown",
   "id": "1e12fee5",
   "metadata": {},
   "source": [
    "\"whidh he publishem it 1948.\" -> \"which he published in 1948.\""
   ]
  },
  {
   "cell_type": "code",
   "execution_count": 17,
   "id": "2babe1fb",
   "metadata": {},
   "outputs": [
    {
     "name": "stdout",
     "output_type": "stream",
     "text": [
      "claude elwood shattot (april 30, 1916 – february 24, 2001) was at americat manhemaniciat, elecnrical etgiteer, atd crypnographer ktowt as \"nhe fanher of itformaniot nheory\". shattot is toned for havitg foutded itformaniot nheory winh a latdmark paper, \"a manhemanical nheory of commuticaniot\", which he published it 1948.\n",
      "he is also well ktowt for foutditg diginal circuin desigt nheory it 1937, whet—as a 21-year-old masner's degree snudetn an nhe massachusenns itsninune of nechtology (min)—he wrone his nhesis demotsnranitg nhan elecnrical applicaniots of booleat algebra could cotsnrucn aty logical tumerical relaniotship. shattot cotnribuned no nhe field of crypnatalysis for taniotal defetse duritg world war ii, itcluditg his futdametnal work ot codebreakitg atd secure nelecommuticaniots.\n",
      "\n",
      "\n",
      "== biography ==\n",
      "\n",
      "\n",
      "=== childhood ===\n",
      "nhe shattot family lived it gaylord, michigat, atd claude was bort it a hospinal it tearby penoskey. his fanher, claude sr. (1862–1934) was a busitessmat atd for a w\n"
     ]
    }
   ],
   "source": [
    "rule['t'], rule['l'] = 'c', 'd'\n",
    "rule['b'], rule['l'] = 'd', 'm'\n",
    "plaintext = substitution_decoding(cip_sample, rule)\n",
    "print(plaintext)"
   ]
  },
  {
   "cell_type": "markdown",
   "id": "743fdfeb",
   "metadata": {},
   "source": [
    "\"shattot is toned for havitg foutded itformaniot nheory\" -> \"shannon is noted for having founded information theory\""
   ]
  },
  {
   "cell_type": "code",
   "execution_count": 18,
   "id": "a733aacf",
   "metadata": {},
   "outputs": [
    {
     "name": "stdout",
     "output_type": "stream",
     "text": [
      "claude elwood shannon (april 30, 1916 – february 24, 2001) was an american mathematician, electrical engineer, and cryptographer known as \"the father of information theory\". shannon is noted for having founded information theory with a landmark paper, \"a mathematical theory of communication\", which he published in 1948.\n",
      "he is also well known for founding digital circuit design theory in 1937, when—as a 21-year-old master's degree student at the massachusetts institute of technology (mit)—he wrote his thesis demonstrating that electrical applications of boolean algebra could construct any logical numerical relationship. shannon contributed to the field of cryptanalysis for national defense during world war ii, including his fundamental work on codebreaking and secure telecommunications.\n",
      "\n",
      "\n",
      "== biography ==\n",
      "\n",
      "\n",
      "=== childhood ===\n",
      "the shannon family lived in gaylord, michigan, and claude was born in a hospital in nearby petoskey. his father, claude sr. (1862–1934) was a businessman and for a w\n"
     ]
    }
   ],
   "source": [
    "\n",
    "rule['e'], rule['j'] = 'n', 't'\n",
    "plaintext = substitution_decoding(cip_sample, rule)\n",
    "print(plaintext)"
   ]
  },
  {
   "cell_type": "markdown",
   "id": "d78f364e",
   "metadata": {},
   "source": [
    "\"xoined\" -> \"joined\"\n",
    "\"organiqations\" -> \"organization\""
   ]
  },
  {
   "cell_type": "code",
   "execution_count": 19,
   "id": "16a6eb71",
   "metadata": {},
   "outputs": [
    {
     "name": "stdout",
     "output_type": "stream",
     "text": [
      "claude elwood shannon (april 30, 1916 – february 24, 2001) was an american mathematician, electrical engineer, and cryptographer known as \"the father of information theory\". shannon is noted for having founded information theory with a landmark paper, \"a mathematical theory of communication\", which he published in 1948.\n",
      "he is also well known for founding digital circuit design theory in 1937, when—as a 21-year-old master's degree student at the massachusetts institute of technology (mit)—he wrote his thesis demonstrating that electrical applications of boolean algebra could construct any logical numerical relationship. shannon contributed to the field of cryptanalysis for national defense during world war ii, including his fundamental work on codebreaking and secure telecommunications.\n",
      "\n",
      "\n",
      "== biography ==\n",
      "\n",
      "\n",
      "=== childhood ===\n",
      "the shannon family lived in gaylord, michigan, and claude was born in a hospital in nearby petoskey. his father, claude sr. (1862–1934) was a businessman and for a w\n"
     ]
    }
   ],
   "source": [
    "\n",
    "rule['u'], rule['p'] = 'j', 'x'\n",
    "rule['k'], rule['g'] = 'z', 'q'\n",
    "plaintext = substitution_decoding(cip_sample, rule)\n",
    "print(plaintext)"
   ]
  },
  {
   "cell_type": "markdown",
   "id": "b15470e3-b320-40a3-b8df-b43abf3e8338",
   "metadata": {},
   "source": [
    "## Bonus Task"
   ]
  },
  {
   "attachments": {},
   "cell_type": "markdown",
   "id": "96ce2d92",
   "metadata": {},
   "source": [
    "One issue of the Caesar cipher brute force attack implemented previously is that we have to visually check all the outputs in order to find the correct one. However, in case we have hundreds of thousands outputs to check we wish to have an automated way of finding the correct shift.\n",
    " \n",
    "An automatic check can be implemented by computing the Chi-Square test which computes how well the distribution of the decrypted plaintex fits the one of the reference test and this is performed for all the possible shifts.\n",
    "\n",
    "The following formula for the Chi-Square test has been used and implemented in Python:\n",
    "\n",
    "$ \\tilde{\\chi}^2=\\sum_{k=1}^{n} \\frac{(O_k - E_k)^2}{E_k}\\ $\n",
    "\n",
    "Where O is the probability of each letter in the plaintext obtained with the defined shift, E is the expected probability of each letter in the reference text and N is the number of the letters of the alphabet.\n",
    "\n",
    "As it can be seen from the output of the code below, *chi_test* is an array of length equal to 26 and it contains the results of the chi-square test computed for each shift. \n",
    "\n",
    "The shift is automatically computed by checking which is the index of the lowest result in the array since the lower is the value the higher is the fitting between the two distributions according to the fitting test implemented.\n"
   ]
  },
  {
   "cell_type": "code",
   "execution_count": 22,
   "id": "489a3a33-3e2a-483f-82fa-131d66752460",
   "metadata": {},
   "outputs": [
    {
     "name": "stdout",
     "output_type": "stream",
     "text": [
      "[ 5.47610986  3.39367154 20.75765567  7.64339935  5.51161952  7.57955864\n",
      " 14.0458884   8.37469157 15.88789603 12.51142374  5.72054885  6.0485774\n",
      "  7.48627894  6.17406084  0.05907302 13.85872898  6.71524985 15.63913902\n",
      "  5.42926711 23.31215103  2.75573612  8.87008273  7.34353919 12.96977334\n",
      " 11.41951263  3.96459784]\n",
      "The computed shift is: 14\n"
     ]
    }
   ],
   "source": [
    "# Code here\n",
    "def chi_sqr(plaintext_dist, eng_dist):\n",
    "    return np.sum([np.power(plaintext_dist[letter] - eng_dist[letter], 2) / eng_dist[letter] for letter in ALPHABET])\n",
    "\n",
    "\n",
    "def caesar_auto():\n",
    "    file_path = os.path.join('ciphertext_caesar.txt')\n",
    "    ciphertext = read_cipher(file_path)\n",
    "    plaintexts_list = [caesar_decoding(ciphertext, shift) for shift in range(len(ALPHABET))]\n",
    "    plaintext_dist = [letter_dist(plaintext) for plaintext in plaintexts_list]\n",
    "    eng_dist = read_pickle(os.path.join(\"letters-freq.pkl\"))\n",
    "    chi_test = np.array([chi_sqr(dict(zip(ALPHABET, plain_dist_dict.values())), dict(zip(ALPHABET, eng_dist.values())))\n",
    "                         for plain_dist_dict in plaintext_dist])\n",
    "    shift = np.argmin(chi_test)\n",
    "    print(chi_test)\n",
    "\n",
    "    print(f'The computed shift is: {shift}')\n",
    "\n",
    "    complete_plaintext = caesar_decoding(ciphertext, SHIFT_EXERCISE)\n",
    "    write_plaintext(complete_plaintext, \"caesar_plaintext\")\n",
    "    return\n",
    "\n",
    "caesar_auto()"
   ]
  }
 ],
 "metadata": {
  "kernelspec": {
   "display_name": "Python 3 (ipykernel)",
   "language": "python",
   "name": "python3"
  },
  "language_info": {
   "codemirror_mode": {
    "name": "ipython",
    "version": 3
   },
   "file_extension": ".py",
   "mimetype": "text/x-python",
   "name": "python",
   "nbconvert_exporter": "python",
   "pygments_lexer": "ipython3",
   "version": "3.10.9"
  }
 },
 "nbformat": 4,
 "nbformat_minor": 5
}
